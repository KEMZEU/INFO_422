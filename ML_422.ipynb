{
 "cells": [
  {
   "cell_type": "code",
   "execution_count": 4,
   "id": "00b68269",
   "metadata": {},
   "outputs": [],
   "source": [
    "import numpy as np\n",
    "import pandas as pd\n",
    "from joblib import load\n",
    "from pyriemann.estimation import Covariances\n",
    "from pyriemann.tangentspace import TangentSpace\n",
    "\n",
    "# === 1. Charger les fichiers test ===\n",
    "guided_X = np.load(\"guided_testset_X.npy\")     # (1660, 8, 500)\n",
    "free_X = np.load(\"freemoves_testset_X.npy\")    # (1540, 8, 500)\n",
    "\n",
    "# === 2. Fonction de features temporelles ===\n",
    "from sklearn.base import BaseEstimator, TransformerMixin\n",
    "class TimeDomainFeatureExtractor(BaseEstimator, TransformerMixin):\n",
    "    def __init__(self, mpr_thresh='std'):\n",
    "        \"\"\"\n",
    "        mpr_thresh: threshold for MPR (default: one std per channel)\n",
    "        \"\"\"\n",
    "        self.mpr_thresh = mpr_thresh\n",
    "    def fit(self, X, y=None):\n",
    "        # No fitting necessary for this transformer\n",
    "        return self\n",
    "    def transform(self, X):\n",
    "        # X shape: (n_samples, n_channels, window_size)\n",
    "        n_samples, n_channels, window_size = X.shape\n",
    "        features = []\n",
    "        for i in range(n_samples):\n",
    "            feats = []\n",
    "            for ch in range(n_channels):\n",
    "                x = X[i, ch, :]\n",
    "                # MAV: Mean Absolute Value\n",
    "                mav = np.mean(np.abs(x))\n",
    "                # RMS: Root Mean Square\n",
    "                rms = np.sqrt(np.mean(x**2))\n",
    "                # VAR: Variance\n",
    "                var = np.var(x, ddof=1)\n",
    "                # STD: Standard Deviation\n",
    "                std = np.std(x, ddof=1)\n",
    "                # ZC: Zero Crossings (number of times signal changes sign)\n",
    "                zc = np.sum(np.diff(np.sign(x)) != 0)\n",
    "                # MPR: Myopulse Percentage Rate (fraction of samples above threshold)\n",
    "                thresh = std if self.mpr_thresh == 'std' else self.mpr_thresh\n",
    "                mpr = np.mean(np.abs(x) > thresh)\n",
    "                feats.extend([mav, rms, var, std, zc, mpr])\n",
    "            features.append(feats)\n",
    "        return np.array(features)\n",
    "\n",
    "\n",
    "\n",
    "# === 4. Extraire les features ===\n",
    "\n",
    "\n",
    "\n",
    "# === 5. Prédictions\n",
    "\n"
   ]
  },
  {
   "cell_type": "code",
   "execution_count": 5,
   "id": "045cf845",
   "metadata": {},
   "outputs": [],
   "source": [
    "# === 3. Charger les modèles entraînés ===\n",
    "model_time_guided = load(\"model_guided_time.joblib\")\n",
    "model_cov_guided = load(\"model_guided_cov.joblib\")\n",
    "stacking_guided = load(\"stacking_model_guided.joblib\")\n",
    "\n",
    "model_time_free = load(\"model_free_time.joblib\")\n",
    "model_cov_free = load(\"model_free_cov.joblib\")"
   ]
  },
  {
   "cell_type": "code",
   "execution_count": 10,
   "id": "c86a64cc",
   "metadata": {},
   "outputs": [],
   "source": [
    "guided_X_reshaped = guided_X.reshape(-1, 8, 500)  # (5*332, 8, 500)\n",
    "free_X_reshaped = free_X.reshape(-1, 8, 500)  # (5*332, 8, 500)\n"
   ]
  },
  {
   "cell_type": "code",
   "execution_count": 13,
   "id": "8488fbfa",
   "metadata": {},
   "outputs": [],
   "source": [
    "# --- Guided ---\n",
    "X_guided_time = TimeDomainFeatureExtractor().transform(guided_X_reshaped)\n",
    "X_guided_cov = Covariances(estimator='oas').fit_transform(guided_X_reshaped)\n",
    "X_guided_tan = TangentSpace().fit(Covariances().fit_transform(guided_X_reshaped)).transform(X_guided_cov)\n",
    "\n",
    "# --- Free ---\n",
    "X_free_time = TimeDomainFeatureExtractor().transform(free_X_reshaped)\n",
    "X_free_cov = Covariances(estimator='oas').fit_transform(free_X_reshaped)\n",
    "X_free_tan = TangentSpace().fit(Covariances().fit_transform(free_X_reshaped)).transform(X_free_cov)"
   ]
  },
  {
   "cell_type": "code",
   "execution_count": 14,
   "id": "a996ad03",
   "metadata": {},
   "outputs": [],
   "source": [
    "# --- Guided: stacking ---\n",
    "y_guided_time = model_time_guided.predict(X_guided_time)\n",
    "y_guided_cov = model_cov_guided.predict(X_guided_tan)\n",
    "X_guided_meta = np.concatenate([y_guided_time, y_guided_cov], axis=1)\n",
    "guided_preds = stacking_guided.predict(X_guided_meta)  # (1660, 51)"
   ]
  },
  {
   "cell_type": "code",
   "execution_count": 15,
   "id": "0c8b0fc1",
   "metadata": {},
   "outputs": [],
   "source": [
    "# --- Free: mean ensemble ---\n",
    "y_free_time = model_time_free.predict(X_free_time)\n",
    "y_free_cov = model_cov_free.predict(X_free_tan)\n",
    "free_preds = (y_free_time + y_free_cov) / 2            # (1540, 51)\n",
    "\n",
    "# === 6. Fusionner les prédictions\n",
    "final_preds = np.vstack((guided_preds, free_preds))    # (3200, 51)"
   ]
  },
  {
   "cell_type": "code",
   "execution_count": 16,
   "id": "024ccd91",
   "metadata": {},
   "outputs": [
    {
     "name": "stdout",
     "output_type": "stream",
     "text": [
      "✅ Fichier 'team_submission.csv' généré avec succès.\n"
     ]
    }
   ],
   "source": [
    "# === 7. Sauvegarder dans un fichier CSV\n",
    "df = pd.DataFrame(final_preds)\n",
    "df.to_csv(\"team_submission.csv\", index=False, header=False)\n",
    "\n",
    "print(\"✅ Fichier 'team_submission.csv' généré avec succès.\")"
   ]
  },
  {
   "cell_type": "markdown",
   "id": "bf17275e",
   "metadata": {},
   "source": [
    "## Visualisation\n",
    "\n",
    "sEMG: (5 sessions, 8 électrodes, 230 000 échantillons)\n",
    "Joint angles: (5 sessions, 51 articulations, 230 000 échantillons)\n",
    ":\n",
    "5 sessions : Probablement 5 enregistrements distincts (ex: 5 répétitions de gestes guidés/libres).\n",
    "\n",
    "8 électrodes : Signaux sEMG capturés par 8 capteurs sur l’avant-bras.\n",
    "\n",
    "51 articulations : Angles de chaque jointure de la main (doigts, poignet).\n",
    "\n",
    "230 000 échantillons : Durée d’enregistrement ≈ 225 secondes (à 1024 Hz, 230000/1024 ≈ 224.6s)"
   ]
  },
  {
   "cell_type": "code",
   "execution_count": null,
   "id": "8dd4ae80",
   "metadata": {},
   "outputs": [],
   "source": [
    "# Vérifier que chaque session a le même nombre d’échantillons\n",
    "assert emg_data.shape[0] == joint_angles.shape[0], \"Nombre de sessions différent\"\n",
    "assert emg_data.shape[2] == joint_angles.shape[2], \"Nombre d’échantillons différent par session\"\n"
   ]
  },
  {
   "cell_type": "code",
   "execution_count": null,
   "id": "f7cdf94c",
   "metadata": {},
   "outputs": [],
   "source": [
    "emg_merged = emg_data.reshape(-1, 8, 230000)  # Garde la structure (5,8,230k)\n",
    "# Ou emg_flat = emg_data.reshape(-1, 8) pour un tableau 2D (total_samples, 8)\n",
    "session_id = 0  # Première session\n",
    "emg_session = emg_data[session_id]  # Shape: (8, 230000)\n",
    "angles_session = joint_angles[session_id]  # Shape: (51, 230000)\n",
    "# Choisir une articulation (ex: index finger) et une électrode\n",
    "joint_id = 10  # À adapter selon la documentation\n",
    "electrode_id = 0\n",
    "\n",
    "plt.figure(figsize=(12, 4))\n",
    "plt.plot(emg_session[electrode_id, :500], label='sEMG Electrode 0')\n",
    "plt.plot(angles_session[joint_id, :500], label='Joint Angle', alpha=0.7)\n",
    "plt.title('sEMG vs Joint Angle (first 500 samples)')\n",
    "plt.legend()\n",
    "plt.show()\n",
    "\n",
    "\n"
   ]
  },
  {
   "cell_type": "code",
   "execution_count": null,
   "id": "526b465b",
   "metadata": {},
   "outputs": [],
   "source": [
    "import numpy as np\n",
    "\n",
    "def sliding_window(data, window_size, step_size):\n",
    "    \"\"\"\n",
    "    Splits data into overlapping windows.\n",
    "    Arguments:\n",
    "        data: np.ndarray, shape (n_channels, n_samples)\n",
    "        window_size: int, number of samples per window\n",
    "        step_size: int, number of samples to move the window\n",
    "    Returns:\n",
    "        windows: np.ndarray, shape (n_windows, n_channels, window_size)\n",
    "    \"\"\"\n",
    "    n_channels, n_samples = data.shape\n",
    "    n_windows = 1 + (n_samples - window_size) // step_size\n",
    "    windows = np.zeros((n_windows, n_channels, window_size))\n",
    "    for i in range(n_windows):\n",
    "        start = i * step_size\n",
    "        end = start + window_size\n",
    "        windows[i] = data[:, start:end]\n",
    "    return windows\n"
   ]
  },
  {
   "cell_type": "code",
   "execution_count": null,
   "id": "c735ebd0",
   "metadata": {},
   "outputs": [],
   "source": [
    "# Parameters\n",
    "window_size = 500      # 500 samples per window\n",
    "overlap = 250          # 250 samples overlap (50%)\n",
    "step_size = window_size - overlap\n",
    "\n",
    "# Example: use session 0\n",
    "emg_session = emg_data[0]        # shape: (8, 230000)\n",
    "angles_session = joint_angles[0] # shape: (51, 230000)\n",
    "\n",
    "# Windowing\n",
    "emg_windows = sliding_window(emg_session, window_size, step_size)         # shape: (n_windows, 8, 500)\n",
    "angles_windows = sliding_window(angles_session, window_size, step_size)   # shape: (n_windows, 51, 500)\n",
    "\n",
    "print(f\"EMG windows shape: {emg_windows.shape}\")\n",
    "print(f\"Angles windows shape: {angles_windows.shape}\")\n"
   ]
  },
  {
   "cell_type": "code",
   "execution_count": null,
   "id": "086ef0c1",
   "metadata": {},
   "outputs": [],
   "source": [
    "import numpy as np\n",
    "\n",
    "def extract_time_features(windows):\n",
    "    \"\"\"\n",
    "    Extracts time-domain features from sEMG windows.\n",
    "    Args:\n",
    "        windows: np.ndarray, shape (n_windows, n_channels, window_size)\n",
    "    Returns:\n",
    "        features: np.ndarray, shape (n_windows, n_channels * n_features)\n",
    "    \"\"\"\n",
    "    n_windows, n_channels, window_size = windows.shape\n",
    "    feature_list = []\n",
    "    for w in range(n_windows):\n",
    "        feats = []\n",
    "        for c in range(n_channels):\n",
    "            signal = windows[w, c, :]\n",
    "            # Mean Absolute Value (MAV)\n",
    "            mav = np.mean(np.abs(signal))\n",
    "            # Root Mean Square (RMS)\n",
    "            rms = np.sqrt(np.mean(signal ** 2))\n",
    "            # Variance\n",
    "            var = np.var(signal)\n",
    "            # Standard Deviation\n",
    "            std = np.std(signal)\n",
    "            # Zero Crossing (ZC)\n",
    "            zc = np.sum(np.diff(np.sign(signal)) != 0)\n",
    "            feats.extend([mav, rms, var, std, zc])\n",
    "        feature_list.append(feats)\n",
    "    features = np.array(feature_list)\n",
    "    return features\n"
   ]
  },
  {
   "cell_type": "code",
   "execution_count": null,
   "id": "175b891f",
   "metadata": {},
   "outputs": [],
   "source": [
    "# Suppose emg_windows is already created (shape: n_windows, 8, 500)\n",
    "emg_features = extract_time_features(emg_windows)  # shape: (n_windows, 8*5) = (n_windows, 40)\n",
    "\n",
    "print(f\"Extracted features shape: {emg_features.shape}\")\n"
   ]
  },
  {
   "cell_type": "code",
   "execution_count": null,
   "id": "ec3f1cdd",
   "metadata": {},
   "outputs": [],
   "source": [
    "# angles_windows: (n_windows, 51, 500)\n",
    "# Take the mean for each joint in each window\n",
    "target_angles = np.mean(angles_windows, axis=2)  # shape: (n_windows, 51)\n",
    "print(f\"Target angles shape: {target_angles.shape}\")\n"
   ]
  },
  {
   "cell_type": "markdown",
   "id": "a94fc572",
   "metadata": {},
   "source": [
    "Ridge Regression\tRapide, interprétable\t    Limité aux relations linéaires\n",
    "SVR (RBF)\t        Capture des non-linéarités\tLent pour grands jeux de données"
   ]
  },
  {
   "cell_type": "markdown",
   "id": "039cd57f",
   "metadata": {},
   "source": [
    "## Regression linéaire"
   ]
  },
  {
   "cell_type": "code",
   "execution_count": null,
   "id": "352a8153",
   "metadata": {},
   "outputs": [],
   "source": [
    "from sklearn.linear_model import Ridge\n",
    "from sklearn.model_selection import train_test_split\n",
    "from sklearn.metrics import mean_squared_error\n",
    "import numpy as np\n",
    "\n",
    "# Split data into training and testing sets (80/20)\n",
    "X_train, X_test, y_train, y_test = train_test_split(\n",
    "    emg_features,          # Features (shape: n_windows, 40)\n",
    "    target_angles,         # Targets (shape: n_windows, 51)\n",
    "    test_size=0.2,\n",
    "    random_state=42\n",
    ")\n",
    "\n",
    "# Initialize and train Ridge Regression model\n",
    "ridge_model = Ridge(alpha=1.0)  # alpha = regularization strength\n",
    "ridge_model.fit(X_train, y_train)\n",
    "\n",
    "# Predict and evaluate\n",
    "y_pred = ridge_model.predict(X_test)\n",
    "rmse = np.sqrt(np.mean((y_test - y_pred)**2))\n",
    "print(f\"Ridge RMSE: {rmse:.3f}\")  # Ex: 0.456\n"
   ]
  },
  {
   "cell_type": "markdown",
   "id": "f63df192",
   "metadata": {},
   "source": [
    "## Regression de support vectorielle avec noyau RBF"
   ]
  },
  {
   "cell_type": "code",
   "execution_count": null,
   "id": "3dd47ead",
   "metadata": {},
   "outputs": [],
   "source": [
    "from sklearn.svm import SVR\n",
    "from sklearn.multioutput import MultiOutputRegressor\n",
    "\n",
    "# SVR ne gère pas les sorties multiples → On utilise MultiOutputRegressor\n",
    "svr = SVR(kernel='rbf', C=1.0, epsilon=0.1)  # noyau Gaussien\n",
    "svr_model = MultiOutputRegressor(svr)        # Entraîne un SVR par articulation\n",
    "\n",
    "svr_model.fit(X_train, y_train)\n",
    "y_pred_svr = svr_model.predict(X_test)\n",
    "rmse_svr = np.sqrt(mean_squared_error(y_test, y_pred_svr))\n",
    "print(f\"SVR RMSE: {rmse_svr:.3f}\")  # Ex: 0.482\n"
   ]
  },
  {
   "cell_type": "markdown",
   "id": "270848cb",
   "metadata": {},
   "source": [
    "Ridge  est nettement plus performant ici, avec un RMSE presque 2 fois plus petit que celui de SVR.\n",
    "Cela signifie que les prédictions Ridge sont, en moyenne, beaucoup plus proches des vraies valeurs.\n",
    "Moins d'erreur = meilleur ajustement sur les données."
   ]
  },
  {
   "cell_type": "code",
   "execution_count": null,
   "id": "c2d36f75",
   "metadata": {},
   "outputs": [],
   "source": [
    "from sklearn.model_selection import GridSearchCV\n",
    "\n",
    "# Define the grid of alpha values to test\n",
    "param_grid = {'alpha': [0.01, 0.1, 1, 10, 100]}\n",
    "\n",
    "ridge = Ridge()\n",
    "grid_search = GridSearchCV(ridge, param_grid, cv=5, scoring='neg_mean_squared_error')\n",
    "grid_search.fit(X_train, y_train)\n",
    "\n",
    "print(f\"Best alpha for Ridge: {grid_search.best_params_['alpha']}\")\n",
    "print(f\"Best RMSE: {np.sqrt(-grid_search.best_score_):.3f}\")\n"
   ]
  },
  {
   "cell_type": "markdown",
   "id": "ad6fa904",
   "metadata": {},
   "source": [
    "Nous allons faire l'optimisation des paramètres sur la SVR, mais elle ne sera retenue pour la suite."
   ]
  },
  {
   "cell_type": "code",
   "execution_count": null,
   "id": "a9faeaf6",
   "metadata": {},
   "outputs": [],
   "source": [
    "from sklearn.svm import SVR\n",
    "from sklearn.multioutput import MultiOutputRegressor\n",
    "\n",
    "param_grid = {\n",
    "    'estimator__C': [0.1, 1, 10],\n",
    "    'estimator__gamma': ['scale', 0.01, 0.1]\n",
    "}\n",
    "\n",
    "svr = SVR(kernel='rbf')\n",
    "multi_svr = MultiOutputRegressor(svr)\n",
    "\n",
    "grid_search_svr = GridSearchCV(multi_svr, param_grid, cv=3, scoring='neg_mean_squared_error')\n",
    "grid_search_svr.fit(X_train, y_train)\n",
    "\n",
    "print(f\"Best params for SVR: {grid_search_svr.best_params_}\")\n",
    "print(f\"Best RMSE: {np.sqrt(-grid_search_svr.best_score_):.3f}\")\n"
   ]
  },
  {
   "cell_type": "markdown",
   "id": "41460ba4",
   "metadata": {},
   "source": [
    "Visualisation des predictions pour la premiere articulation"
   ]
  },
  {
   "cell_type": "code",
   "execution_count": null,
   "id": "ce401ede",
   "metadata": {},
   "outputs": [],
   "source": [
    "import matplotlib.pyplot as plt\n",
    "\n",
    "# Choose a joint to visualize (e.g., joint 0)\n",
    "joint_idx = 0\n",
    "\n",
    "plt.figure(figsize=(12, 5))\n",
    "plt.plot(y_test[:, joint_idx], label='True angle')\n",
    "plt.plot(y_pred[:, joint_idx], label='Ridge prediction', alpha=0.7)\n",
    "plt.plot(y_pred_svr[:, joint_idx], label='SVR prediction', alpha=0.7)\n",
    "plt.title(f'Prediction vs True for Joint {joint_idx}')\n",
    "plt.xlabel('Test window')\n",
    "plt.ylabel('Angle')\n",
    "plt.legend()\n",
    "plt.show()\n"
   ]
  },
  {
   "cell_type": "code",
   "execution_count": null,
   "id": "1a499777",
   "metadata": {},
   "outputs": [],
   "source": [
    "import numpy as np\n",
    "\n",
    "# Suppose you have a list of trained models and their predictions:\n",
    "# predictions_list = [y_pred_model1, y_pred_model2, y_pred_model3, ...]\n",
    "# Each y_pred_modelX shape: (n_samples, n_targets)\n",
    "\n",
    "# Simple average ensemble\n",
    "ensemble_pred_mean = np.mean(predictions_list, axis=0)\n"
   ]
  },
  {
   "cell_type": "code",
   "execution_count": null,
   "id": "b1cf2c0f",
   "metadata": {},
   "outputs": [],
   "source": [
    "from sklearn.linear_model import Ridge\n",
    "from sklearn.model_selection import train_test_split\n",
    "\n",
    "# Stack predictions as features for meta-learner\n",
    "X_meta = np.concatenate(predictions_list, axis=1)  # shape: (n_samples, n_models * n_targets)\n",
    "\n",
    "# Split for meta-learner training\n",
    "X_meta_train, X_meta_test, y_meta_train, y_meta_test = train_test_split(\n",
    "    X_meta, y_true, test_size=0.2, random_state=42\n",
    ")\n",
    "\n",
    "meta_learner = Ridge()\n",
    "meta_learner.fit(X_meta_train, y_meta_train)\n",
    "ensemble_pred_stack = meta_learner.predict(X_meta_test)\n"
   ]
  },
  {
   "cell_type": "code",
   "execution_count": null,
   "id": "b2c99845",
   "metadata": {},
   "outputs": [],
   "source": [
    "# Suppose you have computed RMSE for each model on each protocol\n",
    "rmse_guided = [rmse_model1_guided, rmse_model2_guided, ...]\n",
    "rmse_free = [rmse_model1_free, rmse_model2_free, ...]\n",
    "\n",
    "best_model_guided = np.argmin(rmse_guided)\n",
    "best_model_free = np.argmin(rmse_free)\n",
    "\n",
    "print(f\"Best model for guided gestures: Model {best_model_guided}\")\n",
    "print(f\"Best model for free gestures: Model {best_model_free}\")\n"
   ]
  },
  {
   "cell_type": "code",
   "execution_count": null,
   "id": "f490bc21",
   "metadata": {},
   "outputs": [],
   "source": [
    "plt.scatter(y_true[:, joint_idx], ensemble_pred_mean[:, joint_idx], alpha=0.5)\n",
    "plt.xlabel('True Values')\n",
    "plt.ylabel('Predicted Values')\n",
    "plt.title(f'True vs Predicted for Joint {joint_idx}')\n",
    "plt.plot([y_true.min(), y_true.max()], [y_true.min(), y_true.max()], 'k--')  # Perfect prediction line\n",
    "plt.show()\n"
   ]
  },
  {
   "cell_type": "code",
   "execution_count": null,
   "id": "a858db5a",
   "metadata": {},
   "outputs": [],
   "source": []
  },
  {
   "cell_type": "code",
   "execution_count": null,
   "id": "1b1a27a5",
   "metadata": {},
   "outputs": [],
   "source": [
    "from sklearn.feature_selection import SelectKBest, f_regression\n",
    "\n",
    "# Sélection des 10 meilleures features pour le premier angle articulaire\n",
    "selector = SelectKBest(score_func=f_regression, k=10)\n",
    "selector.fit(X_feat, y[:, 0])\n",
    "\n",
    "plt.figure(figsize=(12,4))\n",
    "plt.bar(range(X_feat.shape[1]), selector.scores_)\n",
    "plt.xlabel(\"Feature Index\")\n",
    "plt.ylabel(\"F-score\")\n",
    "plt.title(\"SelectKBest Feature Scores (first joint angle)\")\n",
    "plt.show()\n"
   ]
  },
  {
   "cell_type": "code",
   "execution_count": null,
   "id": "50718b03",
   "metadata": {},
   "outputs": [],
   "source": [
    "from sklearn.pipeline import Pipeline\n",
    "from sklearn.linear_model import Ridge\n",
    "from sklearn.multioutput import MultiOutputRegressor\n",
    "from sklearn.feature_selection import SelectKBest, f_regression\n",
    "\n",
    "pipeline = Pipeline([\n",
    "    ('features', TimeDomainFeatureExtractor()),\n",
    "    ('select', SelectKBest(score_func=f_regression, k=20)),\n",
    "    ('regressor', MultiOutputRegressor(Ridge()))\n",
    "])\n"
   ]
  },
  {
   "cell_type": "code",
   "execution_count": null,
   "id": "88e49b65",
   "metadata": {},
   "outputs": [],
   "source": [
    "from sklearn.model_selection import GroupKFold, cross_val_score\n",
    "from sklearn.metrics import make_scorer\n",
    "import numpy as np\n",
    "\n",
    "def rmse(y_true, y_pred):\n",
    "    return np.sqrt(np.mean((y_true - y_pred) ** 2))\n",
    "\n",
    "rmse_scorer = make_scorer(rmse, greater_is_better=False)\n",
    "cv = GroupKFold(n_splits=5)\n",
    "\n",
    "scores = cross_val_score(\n",
    "    pipeline, X, y,\n",
    "    groups=groups,\n",
    "    cv=cv,\n",
    "    scoring=rmse_scorer\n",
    ")\n",
    "\n",
    "print(\"Pipeline RMSE per fold:\", -scores)\n",
    "print(\"Pipeline RMSE mean:\", -np.mean(scores))\n"
   ]
  },
  {
   "cell_type": "code",
   "execution_count": null,
   "id": "b9564dd5",
   "metadata": {},
   "outputs": [],
   "source": [
    "from pyriemann.estimation import Covariances\n",
    "from pyriemann.tangentspace import TangentSpace\n",
    "\n",
    "pipeline = Pipeline([\n",
    "    ('cov', Covariances(estimator='oas')),\n",
    "    ('ts', TangentSpace()),\n",
    "    ('reg', MultiOutputRegressor(Ridge()))\n",
    "])\n",
    "\n",
    "scores = cross_val_score(\n",
    "    pipeline, X, y,\n",
    "    groups=groups, cv=cv,\n",
    "    scoring=rmse_scorer\n",
    ")\n",
    "\n",
    "print(\"Covariance pipeline RMSE per fold:\", -scores)\n",
    "print(\"Covariance pipeline RMSE mean:\", -np.mean(scores))\n"
   ]
  }
 ],
 "metadata": {
  "kernelspec": {
   "display_name": "Python 3",
   "language": "python",
   "name": "python3"
  },
  "language_info": {
   "codemirror_mode": {
    "name": "ipython",
    "version": 3
   },
   "file_extension": ".py",
   "mimetype": "text/x-python",
   "name": "python",
   "nbconvert_exporter": "python",
   "pygments_lexer": "ipython3",
   "version": "3.13.3"
  }
 },
 "nbformat": 4,
 "nbformat_minor": 5
}
